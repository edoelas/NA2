{
 "cells": [
  {
   "cell_type": "code",
   "execution_count": 1,
   "metadata": {},
   "outputs": [],
   "source": [
    "import pandas as pd\n",
    "import json\n",
    "import os\n",
    "\n",
    "def get_last_trace_path():\n",
    "    folder_path = \"traces\"\n",
    "    folders = [f for f in os.listdir(folder_path) if os.path.isdir(os.path.join(folder_path, f))]\n",
    "    folders.sort()\n",
    "    return os.path.join(folder_path, folders[-1],\"game_1.json\")\n",
    "\n",
    "def get_last_trace():\n",
    "    return json.load(open(get_last_trace_path()))\n",
    "\n",
    "last_trace = get_last_trace()"
   ]
  },
  {
   "cell_type": "code",
   "execution_count": 13,
   "metadata": {},
   "outputs": [],
   "source": [
    "rounds = list(last_trace['game'].keys())\n",
    "turns = [\"turn_P0\", \"turn_P1\", \"turn_P2\", \"turn_P3\"]\n",
    "\n",
    "def get_turn (round_idx, turn_idx):\n",
    "    return last_trace['game'][rounds[round_idx]][turns[turn_idx]]\n",
    "\n",
    "def get_trade (round_idx, turn_idx):\n",
    "    trade = {}\n",
    "    trade['round'] = round_idx\n",
    "    trade['turn'] = turn_idx\n",
    "    trade['trade'] = get_turn(round_idx, turn_idx)['commerce_phase'][0]['trade_offer']\n",
    "    trade['inviable'] = get_turn(round_idx, turn_idx)['commerce_phase'][0]['inviable']\n",
    "    if trade['inviable'] == False:\n",
    "        trade['accepted'] = get_turn(round_idx, turn_idx)['commerce_phase'][0]['answers']\n",
    "\n",
    "    \n",
    "    # trade['accepted'] = get_turn(round_idx, turn_idx)['commerce_phase'][0]['accepted'] if trade['inviable'] == False else False\n",
    "    return trade"
   ]
  },
  {
   "cell_type": "code",
   "execution_count": 15,
   "metadata": {},
   "outputs": [
    {
     "ename": "KeyError",
     "evalue": "'inviable'",
     "output_type": "error",
     "traceback": [
      "\u001b[1;31m---------------------------------------------------------------------------\u001b[0m",
      "\u001b[1;31mKeyError\u001b[0m                                  Traceback (most recent call last)",
      "Cell \u001b[1;32mIn[15], line 1\u001b[0m\n\u001b[1;32m----> 1\u001b[0m \u001b[43mget_trade\u001b[49m\u001b[43m(\u001b[49m\u001b[38;5;241;43m2\u001b[39;49m\u001b[43m,\u001b[49m\u001b[38;5;241;43m1\u001b[39;49m\u001b[43m)\u001b[49m\n",
      "Cell \u001b[1;32mIn[13], line 12\u001b[0m, in \u001b[0;36mget_trade\u001b[1;34m(round_idx, turn_idx)\u001b[0m\n\u001b[0;32m     10\u001b[0m trade[\u001b[38;5;124m'\u001b[39m\u001b[38;5;124mturn\u001b[39m\u001b[38;5;124m'\u001b[39m] \u001b[38;5;241m=\u001b[39m turn_idx\n\u001b[0;32m     11\u001b[0m trade[\u001b[38;5;124m'\u001b[39m\u001b[38;5;124mtrade\u001b[39m\u001b[38;5;124m'\u001b[39m] \u001b[38;5;241m=\u001b[39m get_turn(round_idx, turn_idx)[\u001b[38;5;124m'\u001b[39m\u001b[38;5;124mcommerce_phase\u001b[39m\u001b[38;5;124m'\u001b[39m][\u001b[38;5;241m0\u001b[39m][\u001b[38;5;124m'\u001b[39m\u001b[38;5;124mtrade_offer\u001b[39m\u001b[38;5;124m'\u001b[39m]\n\u001b[1;32m---> 12\u001b[0m trade[\u001b[38;5;124m'\u001b[39m\u001b[38;5;124minviable\u001b[39m\u001b[38;5;124m'\u001b[39m] \u001b[38;5;241m=\u001b[39m \u001b[43mget_turn\u001b[49m\u001b[43m(\u001b[49m\u001b[43mround_idx\u001b[49m\u001b[43m,\u001b[49m\u001b[43m \u001b[49m\u001b[43mturn_idx\u001b[49m\u001b[43m)\u001b[49m\u001b[43m[\u001b[49m\u001b[38;5;124;43m'\u001b[39;49m\u001b[38;5;124;43mcommerce_phase\u001b[39;49m\u001b[38;5;124;43m'\u001b[39;49m\u001b[43m]\u001b[49m\u001b[43m[\u001b[49m\u001b[38;5;241;43m0\u001b[39;49m\u001b[43m]\u001b[49m\u001b[43m[\u001b[49m\u001b[38;5;124;43m'\u001b[39;49m\u001b[38;5;124;43minviable\u001b[39;49m\u001b[38;5;124;43m'\u001b[39;49m\u001b[43m]\u001b[49m\n\u001b[0;32m     13\u001b[0m \u001b[38;5;28;01mif\u001b[39;00m trade[\u001b[38;5;124m'\u001b[39m\u001b[38;5;124minviable\u001b[39m\u001b[38;5;124m'\u001b[39m] \u001b[38;5;241m==\u001b[39m \u001b[38;5;28;01mFalse\u001b[39;00m:\n\u001b[0;32m     14\u001b[0m     trade[\u001b[38;5;124m'\u001b[39m\u001b[38;5;124maccepted\u001b[39m\u001b[38;5;124m'\u001b[39m] \u001b[38;5;241m=\u001b[39m get_turn(round_idx, turn_idx)[\u001b[38;5;124m'\u001b[39m\u001b[38;5;124mcommerce_phase\u001b[39m\u001b[38;5;124m'\u001b[39m][\u001b[38;5;241m0\u001b[39m][\u001b[38;5;124m'\u001b[39m\u001b[38;5;124manswers\u001b[39m\u001b[38;5;124m'\u001b[39m]\n",
      "\u001b[1;31mKeyError\u001b[0m: 'inviable'"
     ]
    }
   ],
   "source": [
    "get_trade(2,1)"
   ]
  },
  {
   "cell_type": "code",
   "execution_count": null,
   "metadata": {},
   "outputs": [],
   "source": []
  }
 ],
 "metadata": {
  "kernelspec": {
   "display_name": ".venv",
   "language": "python",
   "name": "python3"
  },
  "language_info": {
   "codemirror_mode": {
    "name": "ipython",
    "version": 3
   },
   "file_extension": ".py",
   "mimetype": "text/x-python",
   "name": "python",
   "nbconvert_exporter": "python",
   "pygments_lexer": "ipython3",
   "version": "3.10.13"
  }
 },
 "nbformat": 4,
 "nbformat_minor": 2
}
