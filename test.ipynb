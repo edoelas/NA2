{
 "cells": [
  {
   "cell_type": "code",
   "execution_count": 5,
   "metadata": {},
   "outputs": [],
   "source": [
    "from Managers.GameDirector import GameDirector\n",
    "from Agents import RandomAgent, EdoAgent, AdrianHerasAgent\n",
    "import os\n",
    "from jsonpath_ng import jsonpath, parse\n",
    "from jsonpath_ng.ext import parse\n",
    "import json\n",
    "\n",
    "ra = RandomAgent.RandomAgent\n",
    "ea = EdoAgent.EdoAgent\n",
    "aha = AdrianHerasAgent.AdrianHerasAgent"
   ]
  },
  {
   "cell_type": "code",
   "execution_count": 6,
   "metadata": {},
   "outputs": [],
   "source": [
    "def set_bot(bot_manager, bots):\n",
    "    bot_manager.first_bot_class = bots[0]\n",
    "    bot_manager.second_bot_class = bots[1]\n",
    "    bot_manager.third_bot_class = bots[2]\n",
    "    bot_manager.fourth_bot_class = bots[3]\n",
    "\n",
    "def get_last_trace_path():\n",
    "    folder_path = \"traces\"\n",
    "    folders = [f for f in os.listdir(folder_path) if os.path.isdir(os.path.join(folder_path, f))]\n",
    "    folders.sort()\n",
    "    return os.path.join(folder_path, folders[-1],\"game_1.json\")"
   ]
  },
  {
   "cell_type": "code",
   "execution_count": 3,
   "metadata": {},
   "outputs": [
    {
     "name": "stdout",
     "output_type": "stream",
     "text": [
      "Game (1) results. Player: VictoryPoints (largest_army) (longest_road)\n",
      "J0: 10 (0) (1)\n",
      "J1: 6 (1) (0)\n",
      "J2: 4 (0) (0)\n",
      "J3: 2 (0) (0)\n"
     ]
    }
   ],
   "source": [
    "game_director = GameDirector(command_line=False)\n",
    "game_manager = game_director.game_manager\n",
    "bot_manager = game_manager.bot_manager\n",
    "set_bot(bot_manager, [ea, rb, rb, rb])\n",
    "game_director.game_start(1)\n",
    "game_director.trace_loader.export_every_game_to_file()"
   ]
  },
  {
   "cell_type": "code",
   "execution_count": 4,
   "metadata": {},
   "outputs": [
    {
     "name": "stdout",
     "output_type": "stream",
     "text": [
      "traces\\2024-05-19 10_23_54.904286\\game_1.json\n",
      "mine:  0\n",
      "total:  28\n"
     ]
    }
   ],
   "source": [
    "trace_path = get_last_trace_path()\n",
    "print(trace_path)\n",
    "jsonpath_expr_mine = parse('game.*.turn_P0.commerce_phase[*].answers[*][*].completed')\n",
    "jsonpath_expr_total = parse('game.*.*.commerce_phase[*].answers[*][*].completed')\n",
    "\n",
    "# read file in path and save it in a variable\n",
    "with open(trace_path) as f:\n",
    "    data = json.load(f)\n",
    "    matches = [match.value for match in jsonpath_expr_mine.find(data)]\n",
    "    print(\"mine: \",sum(matches))\n",
    "    matches = [match.value for match in jsonpath_expr_total.find(data)]\n",
    "    print(\"total: \",sum(matches))"
   ]
  },
  {
   "cell_type": "code",
   "execution_count": null,
   "metadata": {},
   "outputs": [],
   "source": []
  }
 ],
 "metadata": {
  "kernelspec": {
   "display_name": ".venv",
   "language": "python",
   "name": "python3"
  },
  "language_info": {
   "codemirror_mode": {
    "name": "ipython",
    "version": 3
   },
   "file_extension": ".py",
   "mimetype": "text/x-python",
   "name": "python",
   "nbconvert_exporter": "python",
   "pygments_lexer": "ipython3",
   "version": "3.10.13"
  }
 },
 "nbformat": 4,
 "nbformat_minor": 2
}
