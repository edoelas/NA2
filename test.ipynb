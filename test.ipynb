{
 "cells": [
  {
   "cell_type": "code",
   "execution_count": 1,
   "metadata": {},
   "outputs": [],
   "source": [
    "from Managers.GameDirector import GameDirector\n",
    "from Agents import RandomAgent, EdoAgent, AdrianHerasAgent\n",
    "import os\n",
    "from jsonpath_ng import jsonpath, parse\n",
    "from jsonpath_ng.ext import parse\n",
    "import json\n",
    "\n",
    "ra = RandomAgent.RandomAgent\n",
    "ea = EdoAgent.EdoAgent\n",
    "aha = AdrianHerasAgent.AdrianHerasAgent"
   ]
  },
  {
   "cell_type": "code",
   "execution_count": 2,
   "metadata": {},
   "outputs": [],
   "source": [
    "def set_agent(agent_manager, bots):\n",
    "    agent_manager.first_bot_class = bots[0]\n",
    "    agent_manager.second_bot_class = bots[1]\n",
    "    agent_manager.third_bot_class = bots[2]\n",
    "    agent_manager.fourth_bot_class = bots[3]\n",
    "\n",
    "def get_last_trace_path():\n",
    "    folder_path = \"traces\"\n",
    "    folders = [f for f in os.listdir(folder_path) if os.path.isdir(os.path.join(folder_path, f))]\n",
    "    folders.sort()\n",
    "    return os.path.join(folder_path, folders[-1],\"game_1.json\")"
   ]
  },
  {
   "cell_type": "code",
   "execution_count": 3,
   "metadata": {},
   "outputs": [
    {
     "ename": "AttributeError",
     "evalue": "'GameManager' object has no attribute 'bot_manager'",
     "output_type": "error",
     "traceback": [
      "\u001b[1;31m---------------------------------------------------------------------------\u001b[0m",
      "\u001b[1;31mAttributeError\u001b[0m                            Traceback (most recent call last)",
      "Cell \u001b[1;32mIn[3], line 3\u001b[0m\n\u001b[0;32m      1\u001b[0m game_director \u001b[38;5;241m=\u001b[39m GameDirector(command_line\u001b[38;5;241m=\u001b[39m\u001b[38;5;28;01mFalse\u001b[39;00m)\n\u001b[0;32m      2\u001b[0m game_manager \u001b[38;5;241m=\u001b[39m game_director\u001b[38;5;241m.\u001b[39mgame_manager\n\u001b[1;32m----> 3\u001b[0m bot_manager \u001b[38;5;241m=\u001b[39m \u001b[43mgame_manager\u001b[49m\u001b[38;5;241;43m.\u001b[39;49m\u001b[43mbot_manager\u001b[49m\n\u001b[0;32m      4\u001b[0m set_bot(bot_manager, [ea, rb, rb, rb])\n\u001b[0;32m      5\u001b[0m game_director\u001b[38;5;241m.\u001b[39mgame_start(\u001b[38;5;241m1\u001b[39m)\n",
      "\u001b[1;31mAttributeError\u001b[0m: 'GameManager' object has no attribute 'bot_manager'"
     ]
    }
   ],
   "source": [
    "game_director = GameDirector(command_line=False)\n",
    "game_manager = game_director.game_manager\n",
    "agent_manager = game_manager.agent_manager\n",
    "set_agent(agent_manager, [ea, rb, rb, rb])\n",
    "game_director.game_start(1)\n",
    "game_director.trace_loader.export_every_game_to_file()"
   ]
  },
  {
   "cell_type": "code",
   "execution_count": 4,
   "metadata": {},
   "outputs": [
    {
     "name": "stdout",
     "output_type": "stream",
     "text": [
      "traces\\2024-05-19 10_23_54.904286\\game_1.json\n",
      "mine:  0\n",
      "total:  28\n"
     ]
    }
   ],
   "source": [
    "trace_path = get_last_trace_path()\n",
    "print(trace_path)\n",
    "jsonpath_expr_mine = parse('game.*.turn_P0.commerce_phase[*].answers[*][*].completed')\n",
    "jsonpath_expr_total = parse('game.*.*.commerce_phase[*].answers[*][*].completed')\n",
    "\n",
    "# read file in path and save it in a variable\n",
    "with open(trace_path) as f:\n",
    "    data = json.load(f)\n",
    "    matches = [match.value for match in jsonpath_expr_mine.find(data)]\n",
    "    print(\"mine: \",sum(matches))\n",
    "    matches = [match.value for match in jsonpath_expr_total.find(data)]\n",
    "    print(\"total: \",sum(matches))"
   ]
  },
  {
   "cell_type": "code",
   "execution_count": null,
   "metadata": {},
   "outputs": [],
   "source": []
  }
 ],
 "metadata": {
  "kernelspec": {
   "display_name": ".venv",
   "language": "python",
   "name": "python3"
  },
  "language_info": {
   "codemirror_mode": {
    "name": "ipython",
    "version": 3
   },
   "file_extension": ".py",
   "mimetype": "text/x-python",
   "name": "python",
   "nbconvert_exporter": "python",
   "pygments_lexer": "ipython3",
   "version": "3.10.13"
  }
 },
 "nbformat": 4,
 "nbformat_minor": 2
}
